{
 "cells": [
  {
   "cell_type": "code",
   "execution_count": 1,
   "id": "3e7543a7-475e-4daa-85f6-ec8beda7d091",
   "metadata": {
    "tags": []
   },
   "outputs": [],
   "source": [
    "# Importing standard Qiskit libraries\n",
    "from qiskit import QuantumCircuit, transpile\n",
    "from qiskit.tools.jupyter import *\n",
    "from qiskit.visualization import *\n",
    "from ibm_quantum_widgets import *\n",
    "from qiskit_aer import AerSimulator\n",
    "\n",
    "# qiskit-ibmq-provider has been deprecated.\n",
    "# Please see the Migration Guides in https://ibm.biz/provider_migration_guide for more detail.\n",
    "from qiskit_ibm_runtime import QiskitRuntimeService, Sampler, Estimator, Session, Options\n",
    "\n",
    "# Loading your IBM Quantum account(s)\n",
    "service = QiskitRuntimeService(channel=\"ibm_quantum\")\n",
    "\n",
    "# Invoke a primitive inside a session. For more details see https://qiskit.org/documentation/partners/qiskit_ibm_runtime/tutorials.html\n",
    "# with Session(backend=service.backend(\"ibmq_qasm_simulator\")):\n",
    "#     result = Sampler().run(circuits).result()"
   ]
  },
  {
   "cell_type": "code",
   "execution_count": 4,
   "id": "48e68457-ca1a-4505-9052-20e8ddac4e2e",
   "metadata": {
    "tags": []
   },
   "outputs": [
    {
     "name": "stdout",
     "output_type": "stream",
     "text": [
      "Traceback \u001b[1;36m(most recent call last)\u001b[0m:\n",
      "\u001b[1;36m  Cell \u001b[1;32mIn[4], line 2\u001b[1;36m\n",
      "\u001b[1;33m    from qiskit.algorithms import QPE\u001b[1;36m\n",
      "\u001b[1;31mImportError\u001b[0m\u001b[1;31m:\u001b[0m cannot import name 'QPE' from 'qiskit.algorithms' (/opt/conda/lib/python3.10/site-packages/qiskit/algorithms/__init__.py)\n",
      "\n",
      "Use %tb to get the full traceback.\n"
     ]
    },
    {
     "data": {
      "text/html": [
       "\n",
       "<style>\n",
       ".button {\n",
       "  border: none;\n",
       "  color: white;\n",
       "  padding: 4px 8px;\n",
       "  text-align: center;\n",
       "  text-decoration: none;\n",
       "  display: inline-block;\n",
       "  font-size: 12px;\n",
       "  margin: 4px 2px;\n",
       "  transition-duration: 0.2s;\n",
       "  cursor: pointer;\n",
       "}\n",
       ".iqx-button {\n",
       "  background-color: #0f62fe; \n",
       "  color: white; \n",
       "}\n",
       ".iqx-button:hover {\n",
       "  background-color: #0043ce;\n",
       "  color: white;\n",
       "}\n",
       "</style>\n",
       "<a href=\"https://stackoverflow.com/search?q=ImportError: cannot import name 'QPE' from 'qiskit.algorithms' (/opt/conda/lib/python3.10/site-packages/qiskit/algorithms/__init__.py)\" target='_blank'><button class='button iqx-button'>Search for solution online</button></a>\n"
      ],
      "text/plain": [
       "<IPython.core.display.HTML object>"
      ]
     },
     "metadata": {},
     "output_type": "display_data"
    }
   ],
   "source": [
    "from qiskit import QuantumCircuit, Aer, execute\n",
    "from qiskit.algorithms import QPE\n",
    "from qiskit.visualization import plot_bloch_multivector\n",
    "\n",
    "# Define the Hamiltonian matrix\n",
    "hamiltonian_matrix = [[1, 0, 0], [0, 0, 1], [0, 1, 0]]\n",
    "\n",
    "# Create a QPE circuit to diagonalize the Hamiltonian\n",
    "qpe = QPE(operator=hamiltonian_matrix, iqft_approximation_degree=0, num_time_slices=1, num_ancillae=3)\n",
    "\n",
    "# Measure the eigenvalues and eigenvectors\n",
    "qpe_circuit = qpe.construct_circuit(measurement=True)\n",
    "\n",
    "# Choose the backend to run the quantum circuit\n",
    "backend = Aer.get_backend('statevector_simulator')\n",
    "job = execute(qpe_circuit, backend)\n",
    "result = job.result()\n",
    "\n",
    "# Retrieve and print the eigenvalues\n",
    "eigenvalues = result.get_counts().keys()\n",
    "print(\"Eigenvalues:\", eigenvalues)\n",
    "\n",
    "# Retrieve and print the eigenvectors\n",
    "eigenvectors = result.get_statevector()\n",
    "print(\"Eigenvectors:\")\n",
    "for i, eigenvector in enumerate(eigenvectors):\n",
    "    print(f\"Eigenvalue {i+1}: {eigenvector}\")\n",
    "\n",
    "# Visualize the eigenvectors on a Bloch sphere (for qubits)\n",
    "if qpe.num_ancillae == 1:\n",
    "    plot_bloch_multivector(eigenvectors)\n"
   ]
  },
  {
   "cell_type": "code",
   "execution_count": null,
   "id": "be480706-920c-4af1-bcde-d3be41d3ccb6",
   "metadata": {},
   "outputs": [],
   "source": []
  }
 ],
 "metadata": {
  "kernelspec": {
   "display_name": "Python 3 (ipykernel)",
   "language": "python",
   "name": "python3"
  },
  "language_info": {
   "codemirror_mode": {
    "name": "ipython",
    "version": 3
   },
   "file_extension": ".py",
   "mimetype": "text/x-python",
   "name": "python",
   "nbconvert_exporter": "python",
   "pygments_lexer": "ipython3",
   "version": "3.10.8"
  },
  "widgets": {
   "application/vnd.jupyter.widget-state+json": {
    "state": {
     "16a8542b865c45aba9d67d9ec4852c26": {
      "model_module": "@jupyter-widgets/controls",
      "model_module_version": "2.0.0",
      "model_name": "ButtonModel",
      "state": {
       "button_style": "primary",
       "description": "Clear",
       "layout": "IPY_MODEL_1d250f8b33834948af9ed595af82f745",
       "style": "IPY_MODEL_a35dcd9f1173432da141e8a45c57dd32",
       "tooltip": null
      }
     },
     "1d250f8b33834948af9ed595af82f745": {
      "model_module": "@jupyter-widgets/base",
      "model_module_version": "2.0.0",
      "model_name": "LayoutModel",
      "state": {
       "grid_area": "right",
       "padding": "0px 0px 0px 0px",
       "width": "70px"
      }
     },
     "2974c950bd1a4148bc3505c87a03a8ba": {
      "model_module": "@jupyter-widgets/base",
      "model_module_version": "2.0.0",
      "model_name": "LayoutModel",
      "state": {
       "grid_template_areas": "\n                                       \". . . . right \"\n                                        ",
       "grid_template_columns": "20% 20% 20% 20% 20%",
       "width": "100%"
      }
     },
     "369e019fefe8490a89253c0d38fef423": {
      "model_module": "@jupyter-widgets/base",
      "model_module_version": "2.0.0",
      "model_name": "LayoutModel",
      "state": {
       "width": "145px"
      }
     },
     "4966f94e42154260a3ac4f9c2516cbb9": {
      "model_module": "@jupyter-widgets/controls",
      "model_module_version": "2.0.0",
      "model_name": "HTMLStyleModel",
      "state": {
       "description_width": "",
       "font_size": null,
       "text_color": null
      }
     },
     "4b53a7cd418a49b1af9ec63feebaa6cc": {
      "model_module": "@jupyter-widgets/controls",
      "model_module_version": "2.0.0",
      "model_name": "HTMLModel",
      "state": {
       "layout": "IPY_MODEL_d76233be147640efb203d6a7d0f9882a",
       "style": "IPY_MODEL_a6b0b5fb1d4249498f454212c6646af9",
       "value": "<h5>Message</h5>"
      }
     },
     "5788d466f4a44370bb350fa00f00efd6": {
      "model_module": "@jupyter-widgets/controls",
      "model_module_version": "2.0.0",
      "model_name": "HBoxModel",
      "state": {
       "children": [
        "IPY_MODEL_d906964bb46c4572992b70a2e9fa0f5d",
        "IPY_MODEL_b4f8cbc2da884547a0055a30652fd914",
        "IPY_MODEL_b8a56e33578d4eceb8504f51cb691af3",
        "IPY_MODEL_e9f2ba1541814c38bbce65cc506e20a0",
        "IPY_MODEL_4b53a7cd418a49b1af9ec63feebaa6cc"
       ],
       "layout": "IPY_MODEL_a996d8f855104c5f924d3cf74693f64f"
      }
     },
     "7be97f00d4c24141af44fc506f473c41": {
      "model_module": "@jupyter-widgets/base",
      "model_module_version": "2.0.0",
      "model_name": "LayoutModel",
      "state": {
       "width": "190px"
      }
     },
     "932e634c80be4e8d99f423989c3bfee9": {
      "model_module": "@jupyter-widgets/controls",
      "model_module_version": "2.0.0",
      "model_name": "HTMLStyleModel",
      "state": {
       "description_width": "",
       "font_size": null,
       "text_color": null
      }
     },
     "94b601ef131644dfade896aa79838c74": {
      "model_module": "@jupyter-widgets/base",
      "model_module_version": "2.0.0",
      "model_name": "LayoutModel",
      "state": {
       "width": "70px"
      }
     },
     "a35dcd9f1173432da141e8a45c57dd32": {
      "model_module": "@jupyter-widgets/controls",
      "model_module_version": "2.0.0",
      "model_name": "ButtonStyleModel",
      "state": {
       "font_family": null,
       "font_size": null,
       "font_style": null,
       "font_variant": null,
       "font_weight": null,
       "text_color": null,
       "text_decoration": null
      }
     },
     "a6b0b5fb1d4249498f454212c6646af9": {
      "model_module": "@jupyter-widgets/controls",
      "model_module_version": "2.0.0",
      "model_name": "HTMLStyleModel",
      "state": {
       "description_width": "",
       "font_size": null,
       "text_color": null
      }
     },
     "a996d8f855104c5f924d3cf74693f64f": {
      "model_module": "@jupyter-widgets/base",
      "model_module_version": "2.0.0",
      "model_name": "LayoutModel",
      "state": {
       "margin": "0px 0px 0px 37px",
       "width": "600px"
      }
     },
     "b2a83477bfc44c82919965577dc3d878": {
      "model_module": "@jupyter-widgets/controls",
      "model_module_version": "2.0.0",
      "model_name": "HTMLStyleModel",
      "state": {
       "description_width": "",
       "font_size": null,
       "text_color": null
      }
     },
     "b4f8cbc2da884547a0055a30652fd914": {
      "model_module": "@jupyter-widgets/controls",
      "model_module_version": "2.0.0",
      "model_name": "HTMLModel",
      "state": {
       "layout": "IPY_MODEL_369e019fefe8490a89253c0d38fef423",
       "style": "IPY_MODEL_932e634c80be4e8d99f423989c3bfee9",
       "value": "<h5>Backend</h5>"
      }
     },
     "b8a56e33578d4eceb8504f51cb691af3": {
      "model_module": "@jupyter-widgets/controls",
      "model_module_version": "2.0.0",
      "model_name": "HTMLModel",
      "state": {
       "layout": "IPY_MODEL_d62022196bcb4f84adb4b826cc9ea8c8",
       "style": "IPY_MODEL_b2a83477bfc44c82919965577dc3d878",
       "value": "<h5>Status</h5>"
      }
     },
     "bdce8099cf1644dea6987b26e7b1fb9c": {
      "model_module": "@jupyter-widgets/base",
      "model_module_version": "2.0.0",
      "model_name": "LayoutModel",
      "state": {
       "margin": "0px 0px 10px 0px"
      }
     },
     "c0cbe419fc4d469b820608857e71623d": {
      "model_module": "@jupyter-widgets/controls",
      "model_module_version": "2.0.0",
      "model_name": "HTMLStyleModel",
      "state": {
       "description_width": "",
       "font_size": null,
       "text_color": null
      }
     },
     "d1fdf7ed850449078874a1b70718503d": {
      "model_module": "@jupyter-widgets/controls",
      "model_module_version": "2.0.0",
      "model_name": "GridBoxModel",
      "state": {
       "children": [
        "IPY_MODEL_16a8542b865c45aba9d67d9ec4852c26"
       ],
       "layout": "IPY_MODEL_2974c950bd1a4148bc3505c87a03a8ba"
      }
     },
     "d62022196bcb4f84adb4b826cc9ea8c8": {
      "model_module": "@jupyter-widgets/base",
      "model_module_version": "2.0.0",
      "model_name": "LayoutModel",
      "state": {
       "width": "95px"
      }
     },
     "d76233be147640efb203d6a7d0f9882a": {
      "model_module": "@jupyter-widgets/base",
      "model_module_version": "2.0.0",
      "model_name": "LayoutModel",
      "state": {}
     },
     "d906964bb46c4572992b70a2e9fa0f5d": {
      "model_module": "@jupyter-widgets/controls",
      "model_module_version": "2.0.0",
      "model_name": "HTMLModel",
      "state": {
       "layout": "IPY_MODEL_7be97f00d4c24141af44fc506f473c41",
       "style": "IPY_MODEL_c0cbe419fc4d469b820608857e71623d",
       "value": "<h5>Job ID</h5>"
      }
     },
     "decddeb34b2e4fdebbccb6bf3107f780": {
      "model_module": "@jupyter-widgets/controls",
      "model_module_version": "2.0.0",
      "model_name": "HTMLStyleModel",
      "state": {
       "description_width": "",
       "font_size": null,
       "text_color": null
      }
     },
     "e9f2ba1541814c38bbce65cc506e20a0": {
      "model_module": "@jupyter-widgets/controls",
      "model_module_version": "2.0.0",
      "model_name": "HTMLModel",
      "state": {
       "layout": "IPY_MODEL_94b601ef131644dfade896aa79838c74",
       "style": "IPY_MODEL_decddeb34b2e4fdebbccb6bf3107f780",
       "value": "<h5>Queue</h5>"
      }
     },
     "f73f16e0ee2e4cf38bfa0f3fe3857a3b": {
      "model_module": "@jupyter-widgets/controls",
      "model_module_version": "2.0.0",
      "model_name": "HTMLModel",
      "state": {
       "layout": "IPY_MODEL_bdce8099cf1644dea6987b26e7b1fb9c",
       "style": "IPY_MODEL_4966f94e42154260a3ac4f9c2516cbb9",
       "value": "<p style='font-family: IBM Plex Sans, Arial, Helvetica, sans-serif; font-size: 20px; font-weight: medium;'>Circuit Properties</p>"
      }
     }
    },
    "version_major": 2,
    "version_minor": 0
   }
  }
 },
 "nbformat": 4,
 "nbformat_minor": 5
}
