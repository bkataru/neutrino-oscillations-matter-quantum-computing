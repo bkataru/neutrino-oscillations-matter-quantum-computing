{
 "cells": [
  {
   "cell_type": "code",
   "execution_count": 2,
   "id": "5123154c-5b26-49af-9abb-ca54ef7af2b0",
   "metadata": {
    "tags": []
   },
   "outputs": [
    {
     "data": {
      "image/png": "[encoded data removed]",
      "text/plain": [
       "<Figure size 454.517x200.667 with 1 Axes>"
      ]
     },
     "execution_count": 2,
     "metadata": {},
     "output_type": "execute_result"
    }
   ],
   "source": [
    "from qiskit import QuantumCircuit\n",
    "from qiskit.circuit import Parameter, ParameterVector\n",
    "\n",
    "y = Parameter('y')\n",
    "p = ParameterVector('p', length=2)\n",
    "\n",
    "pqc = QuantumCircuit(2)\n",
    "pqc.ry(y, 0)\n",
    "pqc.cx(0, 1)\n",
    "pqc.u(0, *p, 1)\n",
    "\n",
    "pqc.draw('mpl')"
   ]
  },
  {
   "cell_type": "code",
   "execution_count": 3,
   "id": "8ff5019b-5f98-415a-addf-399adcdf6a49",
   "metadata": {
    "tags": []
   },
   "outputs": [
    {
     "data": {
      "text/latex": [
       "$\\displaystyle \\left[\\begin{matrix}1.0 \\cos{\\left(\\frac{y}{2} \\right)} & - 1.0 \\sin{\\left(\\frac{y}{2} \\right)} & 0 & 0\\\\0 & 0 & 1.0 \\sin{\\left(\\frac{y}{2} \\right)} & 1.0 \\cos{\\left(\\frac{y}{2} \\right)}\\\\0 & 0 & 1.0 e^{i \\left(p[0] + p[1]\\right)} \\cos{\\left(\\frac{y}{2} \\right)} & - 1.0 e^{i \\left(p[0] + p[1]\\right)} \\sin{\\left(\\frac{y}{2} \\right)}\\\\1.0 e^{i \\left(p[0] + p[1]\\right)} \\sin{\\left(\\frac{y}{2} \\right)} & 1.0 e^{i \\left(p[0] + p[1]\\right)} \\cos{\\left(\\frac{y}{2} \\right)} & 0 & 0\\end{matrix}\\right]$"
      ],
      "text/plain": [
       "Matrix([\n",
       "[                     1.0*cos(y/2),                     -1.0*sin(y/2),                                 0,                                  0],\n",
       "[                                0,                                 0,                      1.0*sin(y/2),                       1.0*cos(y/2)],\n",
       "[                                0,                                 0, 1.0*exp(I*(p[0] + p[1]))*cos(y/2), -1.0*exp(I*(p[0] + p[1]))*sin(y/2)],\n",
       "[1.0*exp(I*(p[0] + p[1]))*sin(y/2), 1.0*exp(I*(p[0] + p[1]))*cos(y/2),                                 0,                                  0]])"
      ]
     },
     "execution_count": 3,
     "metadata": {},
     "output_type": "execute_result"
    }
   ],
   "source": [
    "from qiskit_symb.quantum_info import Operator\n",
    "\n",
    "op = Operator(pqc)\n",
    "op.to_sympy()"
   ]
  },
  {
   "cell_type": "code",
   "execution_count": null,
   "id": "d3e12f4a-05c4-4373-b7e2-1822565cbebc",
   "metadata": {},
   "outputs": [],
   "source": []
  }
 ],
 "metadata": {
  "kernelspec": {
   "display_name": "Python 3 (ipykernel)",
   "language": "python",
   "name": "python3"
  },
  "language_info": {
   "codemirror_mode": {
    "name": "ipython",
    "version": 3
   },
   "file_extension": ".py",
   "mimetype": "text/x-python",
   "name": "python",
   "nbconvert_exporter": "python",
   "pygments_lexer": "ipython3",
   "version": "3.10.8"
  },
  "widgets": {
   "application/vnd.jupyter.widget-state+json": {
    "state": {
     "03fc499aca244b4f9edec2f710c0faba": {
      "model_module": "@jupyter-widgets/controls",
      "model_module_version": "2.0.0",
      "model_name": "GridBoxModel",
      "state": {
       "children": [
        "IPY_MODEL_fc2c3a0d7f3741e2a10b7673c1b23d9b"
       ],
       "layout": "IPY_MODEL_4eac3549698044abaeaa1e8087219875"
      }
     },
     "077d9012881e4b0783f4b2946fccfdc1": {
      "model_module": "@jupyter-widgets/controls",
      "model_module_version": "2.0.0",
      "model_name": "HTMLStyleModel",
      "state": {
       "description_width": "",
       "font_size": null,
       "text_color": null
      }
     },
     "246b8bc5a44647b3ab78662b2baec4bb": {
      "model_module": "@jupyter-widgets/base",
      "model_module_version": "2.0.0",
      "model_name": "LayoutModel",
      "state": {}
     },
     "2fb9ae303c394f32b0ca1ab5a6c95349": {
      "model_module": "@jupyter-widgets/base",
      "model_module_version": "2.0.0",
      "model_name": "LayoutModel",
      "state": {
       "margin": "0px 0px 0px 37px",
       "width": "600px"
      }
     },
     "3905560ae8254ae8b0b239d45933bced": {
      "model_module": "@jupyter-widgets/base",
      "model_module_version": "2.0.0",
      "model_name": "LayoutModel",
      "state": {
       "width": "190px"
      }
     },
     "3d2a3da84a9f42a49975c4ed12fccb3b": {
      "model_module": "@jupyter-widgets/base",
      "model_module_version": "2.0.0",
      "model_name": "LayoutModel",
      "state": {
       "width": "95px"
      }
     },
     "4cbdf43fdd6e4fb096eefcce5ee4521e": {
      "model_module": "@jupyter-widgets/base",
      "model_module_version": "2.0.0",
      "model_name": "LayoutModel",
      "state": {
       "width": "145px"
      }
     },
     "4d56e970d373421e9df5364fff4b0bde": {
      "model_module": "@jupyter-widgets/base",
      "model_module_version": "2.0.0",
      "model_name": "LayoutModel",
      "state": {
       "width": "70px"
      }
     },
     "4eac3549698044abaeaa1e8087219875": {
      "model_module": "@jupyter-widgets/base",
      "model_module_version": "2.0.0",
      "model_name": "LayoutModel",
      "state": {
       "grid_template_areas": "\n                                       \". . . . right \"\n                                        ",
       "grid_template_columns": "20% 20% 20% 20% 20%",
       "width": "100%"
      }
     },
     "4eedf3b5284d43b99a2b46ca917de0c4": {
      "model_module": "@jupyter-widgets/controls",
      "model_module_version": "2.0.0",
      "model_name": "HTMLModel",
      "state": {
       "layout": "IPY_MODEL_3905560ae8254ae8b0b239d45933bced",
       "style": "IPY_MODEL_f929ba75cd1a40d98abb7f54e4c7b763",
       "value": "<h5>Job ID</h5>"
      }
     },
     "5c66ed3687da4b77aacf588827b0bf43": {
      "model_module": "@jupyter-widgets/controls",
      "model_module_version": "2.0.0",
      "model_name": "HTMLModel",
      "state": {
       "layout": "IPY_MODEL_5e2312fec72f4390a8ae3fd110ed75d7",
       "style": "IPY_MODEL_aa53d8eff5d640ce883faf3cbf94ecb4",
       "value": "<p style='font-family: IBM Plex Sans, Arial, Helvetica, sans-serif; font-size: 20px; font-weight: medium;'>Circuit Properties</p>"
      }
     },
     "5e2312fec72f4390a8ae3fd110ed75d7": {
      "model_module": "@jupyter-widgets/base",
      "model_module_version": "2.0.0",
      "model_name": "LayoutModel",
      "state": {
       "margin": "0px 0px 10px 0px"
      }
     },
     "603b9a68623144c8b72a41d0b00e86a6": {
      "model_module": "@jupyter-widgets/controls",
      "model_module_version": "2.0.0",
      "model_name": "HTMLModel",
      "state": {
       "layout": "IPY_MODEL_3d2a3da84a9f42a49975c4ed12fccb3b",
       "style": "IPY_MODEL_d34c3d255378410795e55a54e8bbbc2e",
       "value": "<h5>Status</h5>"
      }
     },
     "681bb378da1d4f2294ec06ec0242ce1d": {
      "model_module": "@jupyter-widgets/controls",
      "model_module_version": "2.0.0",
      "model_name": "HTMLModel",
      "state": {
       "layout": "IPY_MODEL_4d56e970d373421e9df5364fff4b0bde",
       "style": "IPY_MODEL_9065bd610fc748f8892e6ace40ea0e2b",
       "value": "<h5>Queue</h5>"
      }
     },
     "6c2c8fe77d594766bcbe1fc1e74ff3a4": {
      "model_module": "@jupyter-widgets/controls",
      "model_module_version": "2.0.0",
      "model_name": "ButtonStyleModel",
      "state": {
       "font_family": null,
       "font_size": null,
       "font_style": null,
       "font_variant": null,
       "font_weight": null,
       "text_color": null,
       "text_decoration": null
      }
     },
     "85c4f03e1f6d49e2a277f90ed0e12f5d": {
      "model_module": "@jupyter-widgets/base",
      "model_module_version": "2.0.0",
      "model_name": "LayoutModel",
      "state": {
       "grid_area": "right",
       "padding": "0px 0px 0px 0px",
       "width": "70px"
      }
     },
     "9065bd610fc748f8892e6ace40ea0e2b": {
      "model_module": "@jupyter-widgets/controls",
      "model_module_version": "2.0.0",
      "model_name": "HTMLStyleModel",
      "state": {
       "description_width": "",
       "font_size": null,
       "text_color": null
      }
     },
     "9152bd46b2bb4a2aa45e272a367d7fd9": {
      "model_module": "@jupyter-widgets/controls",
      "model_module_version": "2.0.0",
      "model_name": "HTMLModel",
      "state": {
       "layout": "IPY_MODEL_4cbdf43fdd6e4fb096eefcce5ee4521e",
       "style": "IPY_MODEL_077d9012881e4b0783f4b2946fccfdc1",
       "value": "<h5>Backend</h5>"
      }
     },
     "aa53d8eff5d640ce883faf3cbf94ecb4": {
      "model_module": "@jupyter-widgets/controls",
      "model_module_version": "2.0.0",
      "model_name": "HTMLStyleModel",
      "state": {
       "description_width": "",
       "font_size": null,
       "text_color": null
      }
     },
     "ad3aa7b83eb94ad3b07e2b52c09a4841": {
      "model_module": "@jupyter-widgets/controls",
      "model_module_version": "2.0.0",
      "model_name": "HTMLStyleModel",
      "state": {
       "description_width": "",
       "font_size": null,
       "text_color": null
      }
     },
     "b177880c35e94df2880675cc676696c7": {
      "model_module": "@jupyter-widgets/controls",
      "model_module_version": "2.0.0",
      "model_name": "HBoxModel",
      "state": {
       "children": [
        "IPY_MODEL_4eedf3b5284d43b99a2b46ca917de0c4",
        "IPY_MODEL_9152bd46b2bb4a2aa45e272a367d7fd9",
        "IPY_MODEL_603b9a68623144c8b72a41d0b00e86a6",
        "IPY_MODEL_681bb378da1d4f2294ec06ec0242ce1d",
        "IPY_MODEL_fb2f595363524a84ac8cd42919a60b3f"
       ],
       "layout": "IPY_MODEL_2fb9ae303c394f32b0ca1ab5a6c95349"
      }
     },
     "d34c3d255378410795e55a54e8bbbc2e": {
      "model_module": "@jupyter-widgets/controls",
      "model_module_version": "2.0.0",
      "model_name": "HTMLStyleModel",
      "state": {
       "description_width": "",
       "font_size": null,
       "text_color": null
      }
     },
     "f929ba75cd1a40d98abb7f54e4c7b763": {
      "model_module": "@jupyter-widgets/controls",
      "model_module_version": "2.0.0",
      "model_name": "HTMLStyleModel",
      "state": {
       "description_width": "",
       "font_size": null,
       "text_color": null
      }
     },
     "fb2f595363524a84ac8cd42919a60b3f": {
      "model_module": "@jupyter-widgets/controls",
      "model_module_version": "2.0.0",
      "model_name": "HTMLModel",
      "state": {
       "layout": "IPY_MODEL_246b8bc5a44647b3ab78662b2baec4bb",
       "style": "IPY_MODEL_ad3aa7b83eb94ad3b07e2b52c09a4841",
       "value": "<h5>Message</h5>"
      }
     },
     "fc2c3a0d7f3741e2a10b7673c1b23d9b": {
      "model_module": "@jupyter-widgets/controls",
      "model_module_version": "2.0.0",
      "model_name": "ButtonModel",
      "state": {
       "button_style": "primary",
       "description": "Clear",
       "layout": "IPY_MODEL_85c4f03e1f6d49e2a277f90ed0e12f5d",
       "style": "IPY_MODEL_6c2c8fe77d594766bcbe1fc1e74ff3a4",
       "tooltip": null
      }
     }
    },
    "version_major": 2,
    "version_minor": 0
   }
  }
 },
 "nbformat": 4,
 "nbformat_minor": 5
}
